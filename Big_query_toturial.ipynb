{
  "nbformat": 4,
  "nbformat_minor": 0,
  "metadata": {
    "colab": {
      "name": "big query toturial.ipynb",
      "provenance": [],
      "collapsed_sections": []
    },
    "kernelspec": {
      "name": "python3",
      "display_name": "Python 3"
    }
  },
  "cells": [
    {
      "cell_type": "markdown",
      "metadata": {
        "id": "EKbv0jIRv_74",
        "colab_type": "text"
      },
      "source": [
        "## Introduction\n",
        "\n",
        "in fact with Big query that's mainly for enterprise data that could handle really big data within less time, I haven't dive into big query but it's similiar with HIVE. So the only problem is how could we use it?\n",
        "\n",
        "There are 3 ways:\n",
        "* web ui\n",
        "* command line\n",
        "* rest API\n",
        "\n",
        "I would use python to interact with bigquery to do querying."
      ]
    },
    {
      "cell_type": "code",
      "metadata": {
        "id": "ujTaxwoWwvur",
        "colab_type": "code",
        "outputId": "15fba7ca-855e-483c-f653-75141952ef89",
        "colab": {
          "base_uri": "https://localhost:8080/",
          "height": 361
        }
      },
      "source": [
        "! pip install google-cloud-bigquery"
      ],
      "execution_count": 0,
      "outputs": [
        {
          "output_type": "stream",
          "text": [
            "Requirement already satisfied: google-cloud-bigquery in /usr/local/lib/python3.6/dist-packages (1.21.0)\n",
            "Requirement already satisfied: protobuf>=3.6.0 in /usr/local/lib/python3.6/dist-packages (from google-cloud-bigquery) (3.10.0)\n",
            "Requirement already satisfied: google-cloud-core<2.0dev,>=1.0.3 in /usr/local/lib/python3.6/dist-packages (from google-cloud-bigquery) (1.0.3)\n",
            "Requirement already satisfied: google-resumable-media!=0.4.0,<0.5.0dev,>=0.3.1 in /usr/local/lib/python3.6/dist-packages (from google-cloud-bigquery) (0.4.1)\n",
            "Requirement already satisfied: six>=1.9 in /usr/local/lib/python3.6/dist-packages (from protobuf>=3.6.0->google-cloud-bigquery) (1.12.0)\n",
            "Requirement already satisfied: setuptools in /usr/local/lib/python3.6/dist-packages (from protobuf>=3.6.0->google-cloud-bigquery) (47.1.1)\n",
            "Requirement already satisfied: google-api-core<2.0.0dev,>=1.14.0 in /usr/local/lib/python3.6/dist-packages (from google-cloud-core<2.0dev,>=1.0.3->google-cloud-bigquery) (1.16.0)\n",
            "Requirement already satisfied: requests<3.0.0dev,>=2.18.0 in /usr/local/lib/python3.6/dist-packages (from google-api-core<2.0.0dev,>=1.14.0->google-cloud-core<2.0dev,>=1.0.3->google-cloud-bigquery) (2.23.0)\n",
            "Requirement already satisfied: pytz in /usr/local/lib/python3.6/dist-packages (from google-api-core<2.0.0dev,>=1.14.0->google-cloud-core<2.0dev,>=1.0.3->google-cloud-bigquery) (2018.9)\n",
            "Requirement already satisfied: google-auth<2.0dev,>=0.4.0 in /usr/local/lib/python3.6/dist-packages (from google-api-core<2.0.0dev,>=1.14.0->google-cloud-core<2.0dev,>=1.0.3->google-cloud-bigquery) (1.7.2)\n",
            "Requirement already satisfied: googleapis-common-protos<2.0dev,>=1.6.0 in /usr/local/lib/python3.6/dist-packages (from google-api-core<2.0.0dev,>=1.14.0->google-cloud-core<2.0dev,>=1.0.3->google-cloud-bigquery) (1.51.0)\n",
            "Requirement already satisfied: urllib3!=1.25.0,!=1.25.1,<1.26,>=1.21.1 in /usr/local/lib/python3.6/dist-packages (from requests<3.0.0dev,>=2.18.0->google-api-core<2.0.0dev,>=1.14.0->google-cloud-core<2.0dev,>=1.0.3->google-cloud-bigquery) (1.24.3)\n",
            "Requirement already satisfied: idna<3,>=2.5 in /usr/local/lib/python3.6/dist-packages (from requests<3.0.0dev,>=2.18.0->google-api-core<2.0.0dev,>=1.14.0->google-cloud-core<2.0dev,>=1.0.3->google-cloud-bigquery) (2.9)\n",
            "Requirement already satisfied: certifi>=2017.4.17 in /usr/local/lib/python3.6/dist-packages (from requests<3.0.0dev,>=2.18.0->google-api-core<2.0.0dev,>=1.14.0->google-cloud-core<2.0dev,>=1.0.3->google-cloud-bigquery) (2020.4.5.1)\n",
            "Requirement already satisfied: chardet<4,>=3.0.2 in /usr/local/lib/python3.6/dist-packages (from requests<3.0.0dev,>=2.18.0->google-api-core<2.0.0dev,>=1.14.0->google-cloud-core<2.0dev,>=1.0.3->google-cloud-bigquery) (3.0.4)\n",
            "Requirement already satisfied: cachetools<3.2,>=2.0.0 in /usr/local/lib/python3.6/dist-packages (from google-auth<2.0dev,>=0.4.0->google-api-core<2.0.0dev,>=1.14.0->google-cloud-core<2.0dev,>=1.0.3->google-cloud-bigquery) (3.1.1)\n",
            "Requirement already satisfied: rsa<4.1,>=3.1.4 in /usr/local/lib/python3.6/dist-packages (from google-auth<2.0dev,>=0.4.0->google-api-core<2.0.0dev,>=1.14.0->google-cloud-core<2.0dev,>=1.0.3->google-cloud-bigquery) (4.0)\n",
            "Requirement already satisfied: pyasn1-modules>=0.2.1 in /usr/local/lib/python3.6/dist-packages (from google-auth<2.0dev,>=0.4.0->google-api-core<2.0.0dev,>=1.14.0->google-cloud-core<2.0dev,>=1.0.3->google-cloud-bigquery) (0.2.8)\n",
            "Requirement already satisfied: pyasn1>=0.1.3 in /usr/local/lib/python3.6/dist-packages (from rsa<4.1,>=3.1.4->google-auth<2.0dev,>=0.4.0->google-api-core<2.0.0dev,>=1.14.0->google-cloud-core<2.0dev,>=1.0.3->google-cloud-bigquery) (0.4.8)\n"
          ],
          "name": "stdout"
        }
      ]
    },
    {
      "cell_type": "markdown",
      "metadata": {
        "id": "MgzbPBW4w525",
        "colab_type": "text"
      },
      "source": [
        "## Make data ready\n",
        "\n",
        "I have created a database and table with web UI, then we could do query with python, for how to use web UI to create dataset and table could follow this [link](https://cloud.google.com/bigquery/docs/quickstarts/quickstart-web-ui)."
      ]
    },
    {
      "cell_type": "code",
      "metadata": {
        "id": "uCHc92ddzYsy",
        "colab_type": "code",
        "colab": {}
      },
      "source": [
        "# before we do anything we should config with credentials\n",
        "import os\n",
        "\n",
        "os.environ['GOOGLE_APPLICATION_CREDENTIALS'] = [x for x in os.listdir('.') if x.endswith('json')][0]"
      ],
      "execution_count": 0,
      "outputs": []
    },
    {
      "cell_type": "code",
      "metadata": {
        "id": "BXoYQjKfwy26",
        "colab_type": "code",
        "colab": {}
      },
      "source": [
        "from google.cloud import bigquery\n",
        "\n",
        "project_id = \"cloudtutorial-279003\" \n",
        "# init client\n",
        "client = bigquery.Client(project_id)\n",
        "\n",
        "query = \"select sales_region, count(1) as num from database_tutorial.query_table group by sales_region\"\n",
        "\n",
        "query_job = client.query(query)\n",
        "\n",
        "# get result\n",
        "result = query_job.result()"
      ],
      "execution_count": 0,
      "outputs": []
    },
    {
      "cell_type": "code",
      "metadata": {
        "id": "8zZH5hZxy0Dx",
        "colab_type": "code",
        "outputId": "fdc72044-8e06-4d49-f014-8911202011fe",
        "colab": {
          "base_uri": "https://localhost:8080/",
          "height": 71
        }
      },
      "source": [
        "# let's figure out the result object\n",
        "# so we oculd find that result is a iterator object. we could make the result into a dataframe with to_dataframe.\n",
        "print(type(result))\n",
        "print(dir(result))"
      ],
      "execution_count": 0,
      "outputs": [
        {
          "output_type": "stream",
          "text": [
            "<class 'google.cloud.bigquery.table.RowIterator'>\n",
            "['_DEFAULT_ITEMS_KEY', '_HTTP_METHOD', '_MAX_RESULTS', '_NEXT_TOKEN', '_PAGE_TOKEN', '_RESERVED_PARAMS', '__abstractmethods__', '__class__', '__delattr__', '__dict__', '__dir__', '__doc__', '__eq__', '__format__', '__ge__', '__getattribute__', '__gt__', '__hash__', '__init__', '__init_subclass__', '__iter__', '__le__', '__lt__', '__module__', '__ne__', '__new__', '__reduce__', '__reduce_ex__', '__repr__', '__setattr__', '__sizeof__', '__str__', '__subclasshook__', '__weakref__', '_abc_cache', '_abc_negative_cache', '_abc_negative_cache_version', '_abc_registry', '_field_to_index', '_get_next_page_response', '_get_progress_bar', '_get_query_params', '_has_next_page', '_items_iter', '_items_key', '_next_page', '_next_token', '_page_iter', '_page_size', '_page_start', '_preserve_order', '_project', '_schema', '_selected_fields', '_started', '_table', '_to_arrow_iterable', '_to_dataframe_iterable', '_to_page_iterable', '_total_rows', '_verify_params', 'api_request', 'client', 'extra_params', 'item_to_value', 'max_results', 'next_page_token', 'num_results', 'page_number', 'pages', 'path', 'schema', 'to_arrow', 'to_dataframe', 'total_rows']\n"
          ],
          "name": "stdout"
        }
      ]
    },
    {
      "cell_type": "code",
      "metadata": {
        "id": "7OIOFCYFz3O6",
        "colab_type": "code",
        "outputId": "fd9691fd-38e0-4756-f6cc-15ed799026f3",
        "colab": {
          "base_uri": "https://localhost:8080/",
          "height": 201
        }
      },
      "source": [
        "# let's make it into a dataframe\n",
        "df = result.to_dataframe()\n",
        "\n",
        "df.head()"
      ],
      "execution_count": 0,
      "outputs": [
        {
          "output_type": "execute_result",
          "data": {
            "text/html": [
              "<div>\n",
              "<style scoped>\n",
              "    .dataframe tbody tr th:only-of-type {\n",
              "        vertical-align: middle;\n",
              "    }\n",
              "\n",
              "    .dataframe tbody tr th {\n",
              "        vertical-align: top;\n",
              "    }\n",
              "\n",
              "    .dataframe thead th {\n",
              "        text-align: right;\n",
              "    }\n",
              "</style>\n",
              "<table border=\"1\" class=\"dataframe\">\n",
              "  <thead>\n",
              "    <tr style=\"text-align: right;\">\n",
              "      <th></th>\n",
              "      <th>sales_region</th>\n",
              "      <th>num</th>\n",
              "    </tr>\n",
              "  </thead>\n",
              "  <tbody>\n",
              "    <tr>\n",
              "      <th>0</th>\n",
              "      <td>Region_1</td>\n",
              "      <td>3</td>\n",
              "    </tr>\n",
              "    <tr>\n",
              "      <th>1</th>\n",
              "      <td>Region_2</td>\n",
              "      <td>12</td>\n",
              "    </tr>\n",
              "    <tr>\n",
              "      <th>2</th>\n",
              "      <td>Region_3</td>\n",
              "      <td>4</td>\n",
              "    </tr>\n",
              "    <tr>\n",
              "      <th>3</th>\n",
              "      <td>Region_4</td>\n",
              "      <td>3</td>\n",
              "    </tr>\n",
              "    <tr>\n",
              "      <th>4</th>\n",
              "      <td>Region_5</td>\n",
              "      <td>2</td>\n",
              "    </tr>\n",
              "  </tbody>\n",
              "</table>\n",
              "</div>"
            ],
            "text/plain": [
              "  sales_region  num\n",
              "0     Region_1    3\n",
              "1     Region_2   12\n",
              "2     Region_3    4\n",
              "3     Region_4    3\n",
              "4     Region_5    2"
            ]
          },
          "metadata": {
            "tags": []
          },
          "execution_count": 8
        }
      ]
    },
    {
      "cell_type": "code",
      "metadata": {
        "id": "FI2nGjq_0MG3",
        "colab_type": "code",
        "outputId": "27562d19-1e65-4791-8d6e-274610841cad",
        "colab": {
          "base_uri": "https://localhost:8080/",
          "height": 170
        }
      },
      "source": [
        "# one more thing, as result is a iterator, after we have used it, we won't access it again.\n",
        "# so if we need to access it again, we have to create a new one.\n",
        "result_new = query_job.result()\n",
        "\n",
        "for row in result_new:\n",
        "  print(row.sales_region, row.num)"
      ],
      "execution_count": 0,
      "outputs": [
        {
          "output_type": "stream",
          "text": [
            "Region_1 3\n",
            "Region_2 12\n",
            "Region_3 4\n",
            "Region_4 3\n",
            "Region_5 2\n",
            "Region_6 13\n",
            "Region_7 9\n",
            "Region_8 8\n",
            "Region_9 2\n"
          ],
          "name": "stdout"
        }
      ]
    },
    {
      "cell_type": "markdown",
      "metadata": {
        "id": "R1qmagmV1FAq",
        "colab_type": "text"
      },
      "source": [
        "## bigquery with command line\n",
        "\n",
        "we could also interact with big query with commnad line."
      ]
    },
    {
      "cell_type": "code",
      "metadata": {
        "id": "B3f8gXOb1NfK",
        "colab_type": "code",
        "outputId": "d0976c99-3d42-4467-f1fd-1fd85e373492",
        "colab": {
          "base_uri": "https://localhost:8080/",
          "height": 207
        }
      },
      "source": [
        "# before we use glcoud command, we have to first auth application.\n",
        "! gcloud auth login"
      ],
      "execution_count": 0,
      "outputs": [
        {
          "output_type": "stream",
          "text": [
            "Go to the following link in your browser:\n",
            "\n",
            "    https://accounts.google.com/o/oauth2/auth?client_id=32555940559.apps.googleusercontent.com&redirect_uri=urn%3Aietf%3Awg%3Aoauth%3A2.0%3Aoob&scope=openid+https%3A%2F%2Fwww.googleapis.com%2Fauth%2Fuserinfo.email+https%3A%2F%2Fwww.googleapis.com%2Fauth%2Fcloud-platform+https%3A%2F%2Fwww.googleapis.com%2Fauth%2Fappengine.admin+https%3A%2F%2Fwww.googleapis.com%2Fauth%2Fcompute+https%3A%2F%2Fwww.googleapis.com%2Fauth%2Faccounts.reauth&code_challenge=AMgRyG_twFRoc4S3CPgKVt0mRgr_Tdsd4CARrgt4EIc&code_challenge_method=S256&access_type=offline&response_type=code&prompt=select_account\n",
            "\n",
            "\n",
            "Enter verification code: 4/0QHOpikCdJTLwS3XfLYn66w19c4G_PW_XIggtN1NedtaFQhLosEnWtc\n",
            "\n",
            "You are now logged in as [gqianglu1990@gmail.com].\n",
            "Your current project is [None].  You can change this setting by running:\n",
            "  $ gcloud config set project PROJECT_ID\n"
          ],
          "name": "stdout"
        }
      ]
    },
    {
      "cell_type": "code",
      "metadata": {
        "id": "i5OmhFZ00V7a",
        "colab_type": "code",
        "outputId": "1f56e669-9b29-49aa-e252-a11167b7cc1a",
        "colab": {
          "base_uri": "https://localhost:8080/",
          "height": 170
        }
      },
      "source": [
        "# have to make sure without any blank space\n",
        "! bq show cloudtutorial-279003:database_tutorial.query_table"
      ],
      "execution_count": 0,
      "outputs": [
        {
          "output_type": "stream",
          "text": [
            "Table cloudtutorial-279003:database_tutorial.query_table\n",
            "\n",
            "   Last modified            Schema            Total Rows   Total Bytes   Expiration   Time Partitioning   Clustered Fields   Labels  \n",
            " ----------------- ------------------------- ------------ ------------- ------------ ------------------- ------------------ -------- \n",
            "  03 Jun 01:24:45   |- state_id: integer      56           1887                                                                      \n",
            "                    |- state_code: string                                                                                            \n",
            "                    |- state_name: string                                                                                            \n",
            "                    |- sales_region: string                                                                                          \n",
            "\n"
          ],
          "name": "stdout"
        }
      ]
    },
    {
      "cell_type": "code",
      "metadata": {
        "id": "ZCt4RlYW1Ac-",
        "colab_type": "code",
        "outputId": "e768bb37-7b32-48c2-c386-bc974fc47986",
        "colab": {
          "base_uri": "https://localhost:8080/",
          "height": 256
        }
      },
      "source": [
        "# let's query with command line\n",
        "!bq query --use_legacy_sql=false \\\n",
        "\"select sales_region, count(1) as num from database_tutorial.query_table group by sales_region\""
      ],
      "execution_count": 0,
      "outputs": [
        {
          "output_type": "stream",
          "text": [
            "Waiting on bqjob_r45b4568b13c95ad4_0000017277d9037a_1 ... (0s) Current status: DONE   \n",
            "+--------------+-----+\n",
            "| sales_region | num |\n",
            "+--------------+-----+\n",
            "| Region_1     |   3 |\n",
            "| Region_2     |  12 |\n",
            "| Region_3     |   4 |\n",
            "| Region_4     |   3 |\n",
            "| Region_5     |   2 |\n",
            "| Region_6     |  13 |\n",
            "| Region_7     |   9 |\n",
            "| Region_8     |   8 |\n",
            "| Region_9     |   2 |\n",
            "+--------------+-----+\n"
          ],
          "name": "stdout"
        }
      ]
    },
    {
      "cell_type": "markdown",
      "metadata": {
        "id": "UEyVO5dN2xdF",
        "colab_type": "text"
      },
      "source": [
        "## Create dataset with command\n",
        "\n",
        "let's create a new dataset and table with command.\n"
      ]
    },
    {
      "cell_type": "code",
      "metadata": {
        "id": "DIxswz6C2Bnm",
        "colab_type": "code",
        "outputId": "0616d3a8-4679-494c-8f55-35e670d03d95",
        "colab": {
          "base_uri": "https://localhost:8080/",
          "height": 68
        }
      },
      "source": [
        "# first to get what dataset we have\n",
        "!bq ls "
      ],
      "execution_count": 0,
      "outputs": [
        {
          "output_type": "stream",
          "text": [
            "      datasetId      \n",
            " ------------------- \n",
            "  database_tutorial  \n"
          ],
          "name": "stdout"
        }
      ]
    },
    {
      "cell_type": "code",
      "metadata": {
        "id": "hC0TPqJm4Mdu",
        "colab_type": "code",
        "outputId": "d79d546c-2e29-4fb6-b4fd-d71fc23fe5fa",
        "colab": {
          "base_uri": "https://localhost:8080/",
          "height": 34
        }
      },
      "source": [
        "# let's create a dataset\n",
        "! bq mk command_dataset"
      ],
      "execution_count": 0,
      "outputs": [
        {
          "output_type": "stream",
          "text": [
            "Dataset 'cloudtutorial-279003:command_dataset' successfully created.\n"
          ],
          "name": "stdout"
        }
      ]
    },
    {
      "cell_type": "code",
      "metadata": {
        "id": "xpyAKYGp4W89",
        "colab_type": "code",
        "outputId": "643c1e74-a63b-4b1a-fb5a-dd113e01c3d2",
        "colab": {
          "base_uri": "https://localhost:8080/",
          "height": 85
        }
      },
      "source": [
        "# let's check\n",
        "!  bq ls "
      ],
      "execution_count": 0,
      "outputs": [
        {
          "output_type": "stream",
          "text": [
            "      datasetId      \n",
            " ------------------- \n",
            "  command_dataset    \n",
            "  database_tutorial  \n"
          ],
          "name": "stdout"
        }
      ]
    },
    {
      "cell_type": "code",
      "metadata": {
        "id": "QtB21_er43pO",
        "colab_type": "code",
        "outputId": "2f1be3af-ac03-4124-ea92-4e5c53a2722c",
        "colab": {
          "base_uri": "https://localhost:8080/",
          "height": 119
        }
      },
      "source": [
        "# before we do the upload, we have to config columns name and data type with schema\n",
        "import pandas as pd\n",
        "\n",
        "file_name = [x for x in os.listdir('.') if x.endswith('csv')][0]\n",
        "print(file_name)\n",
        "df = pd.read_csv(file_name)\n",
        "\n",
        "df.dtypes"
      ],
      "execution_count": 0,
      "outputs": [
        {
          "output_type": "stream",
          "text": [
            "bigqurey_data.csv\n"
          ],
          "name": "stdout"
        },
        {
          "output_type": "execute_result",
          "data": {
            "text/plain": [
              "state_id         int64\n",
              "state_code      object\n",
              "state_name      object\n",
              "sales_region    object\n",
              "dtype: object"
            ]
          },
          "metadata": {
            "tags": []
          },
          "execution_count": 28
        }
      ]
    },
    {
      "cell_type": "code",
      "metadata": {
        "id": "kw2aOIA94bJV",
        "colab_type": "code",
        "outputId": "097b8a94-4435-4cd3-ba53-211b1260c96e",
        "colab": {
          "base_uri": "https://localhost:8080/",
          "height": 51
        }
      },
      "source": [
        "# so we have already created the dataset, let's load the data into big query\n",
        "# but I upload the datafile in the colab now, so that we could upload directly\n",
        "# this will create a table and load data into it.\n",
        "! bq load --source_format=CSV --skip_leading_rows=1 \\\n",
        "command_dataset.query_table \\    # table name\n",
        "./bigqurey_data.csv \\    # data file\n",
        "state_id:integer,state_code:string,state_name:string,sales_region:string    # schema\n",
        "# for schema, there shouldn't be any blank space\n"
      ],
      "execution_count": 0,
      "outputs": [
        {
          "output_type": "stream",
          "text": [
            "Upload complete.\n",
            "Waiting on bqjob_r6e0a07e401b7dc04_0000017277eb5ff3_1 ... (0s) Current status: DONE   \n"
          ],
          "name": "stdout"
        }
      ]
    },
    {
      "cell_type": "code",
      "metadata": {
        "id": "JYuzb-Dl5jd3",
        "colab_type": "code",
        "outputId": "ea522cd7-f34f-4f07-fd1c-94baaeb59e0c",
        "colab": {
          "base_uri": "https://localhost:8080/",
          "height": 170
        }
      },
      "source": [
        "# let's check with table information\n",
        "! bq show cloudtutorial-279003:command_dataset.query_table"
      ],
      "execution_count": 0,
      "outputs": [
        {
          "output_type": "stream",
          "text": [
            "Table cloudtutorial-279003:command_dataset.query_table\n",
            "\n",
            "   Last modified            Schema            Total Rows   Total Bytes   Expiration   Time Partitioning   Clustered Fields   Labels  \n",
            " ----------------- ------------------------- ------------ ------------- ------------ ------------------- ------------------ -------- \n",
            "  03 Jun 02:03:36   |- state_id: integer      56           1887                                                                      \n",
            "                    |- state_code: string                                                                                            \n",
            "                    |- state_name: string                                                                                            \n",
            "                    |- sales_region: string                                                                                          \n",
            "\n"
          ],
          "name": "stdout"
        }
      ]
    },
    {
      "cell_type": "code",
      "metadata": {
        "id": "RegC1jY57KeA",
        "colab_type": "code",
        "outputId": "87f25d7c-7639-4f80-c8f2-5c8d09982cc2",
        "colab": {
          "base_uri": "https://localhost:8080/",
          "height": 170
        }
      },
      "source": [
        "# let's query with table, nouse_legacy_sql: make standard SQL as the default query syntax\n",
        "# you could do any query here...\n",
        "! bq query --nouse_legacy_sql \"select * from command_dataset.query_table limit 4\""
      ],
      "execution_count": 0,
      "outputs": [
        {
          "output_type": "stream",
          "text": [
            "Waiting on bqjob_r615b98fb64e94e97_0000017277eda9a1_1 ... (0s) Current status: DONE   \n",
            "+----------+------------+----------------+--------------+\n",
            "| state_id | state_code |   state_name   | sales_region |\n",
            "+----------+------------+----------------+--------------+\n",
            "|        1 | MO         | Missouri       | Region_1     |\n",
            "|        2 | SC         | South Carolina | Region_1     |\n",
            "|        3 | IN         | Indiana        | Region_1     |\n",
            "|        6 | DE         | Delaware       | Region_2     |\n",
            "+----------+------------+----------------+--------------+\n"
          ],
          "name": "stdout"
        }
      ]
    },
    {
      "cell_type": "code",
      "metadata": {
        "id": "ck-ZKjPa7aJg",
        "colab_type": "code",
        "outputId": "28c95ed3-587d-4d49-ec61-a7845f643cfc",
        "colab": {
          "base_uri": "https://localhost:8080/",
          "height": 34
        }
      },
      "source": [
        "# let's remove the dataset\n",
        "! bq rm -r command_dataset"
      ],
      "execution_count": 0,
      "outputs": [
        {
          "output_type": "stream",
          "text": [
            "rm: remove dataset 'cloudtutorial-279003:command_dataset'? (y/N) y\n"
          ],
          "name": "stdout"
        }
      ]
    },
    {
      "cell_type": "code",
      "metadata": {
        "id": "MR7GI5ur8DKc",
        "colab_type": "code",
        "colab": {}
      },
      "source": [
        ""
      ],
      "execution_count": 0,
      "outputs": []
    }
  ]
}